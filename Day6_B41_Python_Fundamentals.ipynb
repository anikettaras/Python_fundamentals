{
 "cells": [
  {
   "cell_type": "code",
   "execution_count": 1,
   "metadata": {},
   "outputs": [],
   "source": [
    "student = ['ravi', 'kiran', 'nil', 'nitin', 'aarav', 'kavya', 'mani']"
   ]
  },
  {
   "cell_type": "code",
   "execution_count": 3,
   "metadata": {},
   "outputs": [
    {
     "name": "stdout",
     "output_type": "stream",
     "text": [
      "keep up the good work, ravi\n"
     ]
    }
   ],
   "source": [
    "print(f\"keep up the good work, {student[0]}\")"
   ]
  },
  {
   "cell_type": "code",
   "execution_count": 4,
   "metadata": {},
   "outputs": [
    {
     "name": "stdout",
     "output_type": "stream",
     "text": [
      "keep up the good work, nil\n"
     ]
    }
   ],
   "source": [
    "print(f\"keep up the good work, {student[2]}\")"
   ]
  },
  {
   "cell_type": "code",
   "execution_count": 5,
   "metadata": {},
   "outputs": [],
   "source": [
    "#implementation of range function"
   ]
  },
  {
   "cell_type": "code",
   "execution_count": 6,
   "metadata": {},
   "outputs": [],
   "source": [
    "#syntax= range(startvalue,stopvalue,stepcount)"
   ]
  },
  {
   "cell_type": "code",
   "execution_count": 8,
   "metadata": {},
   "outputs": [],
   "source": [
    "number = list(range(0,20))"
   ]
  },
  {
   "cell_type": "code",
   "execution_count": 9,
   "metadata": {},
   "outputs": [
    {
     "name": "stdout",
     "output_type": "stream",
     "text": [
      "[0, 1, 2, 3, 4, 5, 6, 7, 8, 9, 10, 11, 12, 13, 14, 15, 16, 17, 18, 19]\n"
     ]
    }
   ],
   "source": [
    " print(number)"
   ]
  },
  {
   "cell_type": "code",
   "execution_count": 11,
   "metadata": {},
   "outputs": [],
   "source": [
    "number = list(range(0,20,2))"
   ]
  },
  {
   "cell_type": "code",
   "execution_count": 12,
   "metadata": {},
   "outputs": [
    {
     "name": "stdout",
     "output_type": "stream",
     "text": [
      "[0, 2, 4, 6, 8, 10, 12, 14, 16, 18]\n"
     ]
    }
   ],
   "source": [
    "print(number)"
   ]
  },
  {
   "cell_type": "code",
   "execution_count": 13,
   "metadata": {},
   "outputs": [],
   "source": [
    "number = list(range(0,20,3))"
   ]
  },
  {
   "cell_type": "code",
   "execution_count": 14,
   "metadata": {},
   "outputs": [
    {
     "name": "stdout",
     "output_type": "stream",
     "text": [
      "[0, 3, 6, 9, 12, 15, 18]\n"
     ]
    }
   ],
   "source": [
    "print(number)"
   ]
  },
  {
   "cell_type": "code",
   "execution_count": 15,
   "metadata": {},
   "outputs": [],
   "source": [
    "#inroduction to for loop in python"
   ]
  },
  {
   "cell_type": "code",
   "execution_count": 16,
   "metadata": {},
   "outputs": [],
   "source": [
    "#for tempvariable in mainvariable:\n",
    "     #print(tempvariable)"
   ]
  },
  {
   "cell_type": "code",
   "execution_count": 17,
   "metadata": {},
   "outputs": [
    {
     "name": "stdout",
     "output_type": "stream",
     "text": [
      "keep up the good work, Ravi\n",
      "keep up the good work, Kiran\n",
      "keep up the good work, Nil\n",
      "keep up the good work, Nitin\n",
      "keep up the good work, Aarav\n",
      "keep up the good work, Kavya\n",
      "keep up the good work, Mani\n"
     ]
    }
   ],
   "source": [
    "for x in student:\n",
    "    print(f\"keep up the good work, {x.title()}\")"
   ]
  },
  {
   "cell_type": "code",
   "execution_count": 18,
   "metadata": {},
   "outputs": [
    {
     "name": "stdout",
     "output_type": "stream",
     "text": [
      "Keep up the goodwork, Ravi\n",
      "I will be looking to recive your practice files,Ravi\n",
      "Keep up the goodwork, Kiran\n",
      "I will be looking to recive your practice files,Kiran\n",
      "Keep up the goodwork, Nil\n",
      "I will be looking to recive your practice files,Nil\n",
      "Keep up the goodwork, Nitin\n",
      "I will be looking to recive your practice files,Nitin\n",
      "Keep up the goodwork, Aarav\n",
      "I will be looking to recive your practice files,Aarav\n",
      "Keep up the goodwork, Kavya\n",
      "I will be looking to recive your practice files,Kavya\n",
      "Keep up the goodwork, Mani\n",
      "I will be looking to recive your practice files,Mani\n"
     ]
    }
   ],
   "source": [
    "for x in student:\n",
    "    print(f\"Keep up the goodwork, {x.title()}\")\n",
    "    print(f\"I will be looking to recive your practice files,{x.title()}\")"
   ]
  },
  {
   "cell_type": "code",
   "execution_count": 19,
   "metadata": {},
   "outputs": [
    {
     "name": "stdout",
     "output_type": "stream",
     "text": [
      "Keep up the goodwork, Ravi\n",
      "I will be looking to recive your practice files,Ravi.\n",
      "\n",
      "Keep up the goodwork, Kiran\n",
      "I will be looking to recive your practice files,Kiran.\n",
      "\n",
      "Keep up the goodwork, Nil\n",
      "I will be looking to recive your practice files,Nil.\n",
      "\n",
      "Keep up the goodwork, Nitin\n",
      "I will be looking to recive your practice files,Nitin.\n",
      "\n",
      "Keep up the goodwork, Aarav\n",
      "I will be looking to recive your practice files,Aarav.\n",
      "\n",
      "Keep up the goodwork, Kavya\n",
      "I will be looking to recive your practice files,Kavya.\n",
      "\n",
      "Keep up the goodwork, Mani\n",
      "I will be looking to recive your practice files,Mani.\n",
      "\n"
     ]
    }
   ],
   "source": [
    "for x in student:\n",
    "    print(f\"Keep up the goodwork, {x.title()}\")\n",
    "    print(f\"I will be looking to recive your practice files,{x.title()}.\\n\")"
   ]
  },
  {
   "cell_type": "code",
   "execution_count": 20,
   "metadata": {},
   "outputs": [
    {
     "name": "stdout",
     "output_type": "stream",
     "text": [
      "Keep up the goodwork, Ravi\n",
      "I will be looking to recive your practice files,Ravi.\n",
      "\n",
      "Keep up the goodwork, Kiran\n",
      "I will be looking to recive your practice files,Kiran.\n",
      "\n",
      "Keep up the goodwork, Nil\n",
      "I will be looking to recive your practice files,Nil.\n",
      "\n",
      "Keep up the goodwork, Nitin\n",
      "I will be looking to recive your practice files,Nitin.\n",
      "\n",
      "Keep up the goodwork, Aarav\n",
      "I will be looking to recive your practice files,Aarav.\n",
      "\n",
      "Keep up the goodwork, Kavya\n",
      "I will be looking to recive your practice files,Kavya.\n",
      "\n",
      "Keep up the goodwork, Mani\n",
      "I will be looking to recive your practice files,Mani.\n",
      "\n",
      "Thank you for joining the python session\n"
     ]
    }
   ],
   "source": [
    "for x in student:\n",
    "    print(f\"Keep up the goodwork, {x.title()}\")\n",
    "    print(f\"I will be looking to recive your practice files,{x.title()}.\\n\")\n",
    "\n",
    "print(\"Thank you for joining the python session\")"
   ]
  },
  {
   "cell_type": "code",
   "execution_count": null,
   "metadata": {},
   "outputs": [],
   "source": []
  }
 ],
 "metadata": {
  "kernelspec": {
   "display_name": "Python 3",
   "language": "python",
   "name": "python3"
  },
  "language_info": {
   "codemirror_mode": {
    "name": "ipython",
    "version": 3
   },
   "file_extension": ".py",
   "mimetype": "text/x-python",
   "name": "python",
   "nbconvert_exporter": "python",
   "pygments_lexer": "ipython3",
   "version": "3.8.5"
  }
 },
 "nbformat": 4,
 "nbformat_minor": 4
}
